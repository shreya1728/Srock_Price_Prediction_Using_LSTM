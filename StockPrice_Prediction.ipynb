{
 "cells": [
  {
   "attachments": {},
   "cell_type": "markdown",
   "metadata": {},
   "source": [
    "#### IMPORTING THE LIBRARIES"
   ]
  },
  {
   "cell_type": "code",
   "execution_count": 35,
   "metadata": {},
   "outputs": [],
   "source": [
    "import numpy as np\n",
    "import pandas as pd\n",
    "import matplotlib.pyplot as plt\n",
    "import pandas_datareader as web\n",
    "from datetime import datetime\n",
    "from sklearn.preprocessing import MinMaxScaler\n",
    "from tensorflow import keras\n",
    "from keras.models import Sequential\n",
    "from keras.layers import Dense, Dropout, LSTM\n",
    "from keras.callbacks import ModelCheckpoint, EarlyStopping\n",
    "import datetime as dt"
   ]
  },
  {
   "attachments": {},
   "cell_type": "markdown",
   "metadata": {},
   "source": [
    "#### PREPROCESSING"
   ]
  },
  {
   "cell_type": "code",
   "execution_count": 36,
   "metadata": {},
   "outputs": [
    {
     "data": {
      "text/html": [
       "<div>\n",
       "<style scoped>\n",
       "    .dataframe tbody tr th:only-of-type {\n",
       "        vertical-align: middle;\n",
       "    }\n",
       "\n",
       "    .dataframe tbody tr th {\n",
       "        vertical-align: top;\n",
       "    }\n",
       "\n",
       "    .dataframe thead th {\n",
       "        text-align: right;\n",
       "    }\n",
       "</style>\n",
       "<table border=\"1\" class=\"dataframe\">\n",
       "  <thead>\n",
       "    <tr style=\"text-align: right;\">\n",
       "      <th></th>\n",
       "      <th>Unnamed: 0</th>\n",
       "      <th>Name</th>\n",
       "      <th>Date</th>\n",
       "      <th>Open</th>\n",
       "      <th>Closing_Price</th>\n",
       "      <th>Daily_High</th>\n",
       "      <th>Daily_Low</th>\n",
       "      <th>Volume</th>\n",
       "    </tr>\n",
       "  </thead>\n",
       "  <tbody>\n",
       "    <tr>\n",
       "      <th>0</th>\n",
       "      <td>0</td>\n",
       "      <td>Accor</td>\n",
       "      <td>2020-04-03</td>\n",
       "      <td>22.99</td>\n",
       "      <td>23.40</td>\n",
       "      <td>23.40</td>\n",
       "      <td>22.99</td>\n",
       "      <td>67</td>\n",
       "    </tr>\n",
       "    <tr>\n",
       "      <th>1</th>\n",
       "      <td>1</td>\n",
       "      <td>Accor</td>\n",
       "      <td>2020-04-02</td>\n",
       "      <td>23.91</td>\n",
       "      <td>22.99</td>\n",
       "      <td>23.91</td>\n",
       "      <td>22.99</td>\n",
       "      <td>250</td>\n",
       "    </tr>\n",
       "    <tr>\n",
       "      <th>2</th>\n",
       "      <td>2</td>\n",
       "      <td>Accor</td>\n",
       "      <td>2020-04-01</td>\n",
       "      <td>24.10</td>\n",
       "      <td>23.83</td>\n",
       "      <td>24.10</td>\n",
       "      <td>23.83</td>\n",
       "      <td>37</td>\n",
       "    </tr>\n",
       "    <tr>\n",
       "      <th>3</th>\n",
       "      <td>3</td>\n",
       "      <td>Accor</td>\n",
       "      <td>2020-03-31</td>\n",
       "      <td>25.04</td>\n",
       "      <td>25.00</td>\n",
       "      <td>25.24</td>\n",
       "      <td>24.99</td>\n",
       "      <td>336</td>\n",
       "    </tr>\n",
       "    <tr>\n",
       "      <th>4</th>\n",
       "      <td>4</td>\n",
       "      <td>Accor</td>\n",
       "      <td>2020-03-30</td>\n",
       "      <td>26.50</td>\n",
       "      <td>25.02</td>\n",
       "      <td>26.50</td>\n",
       "      <td>24.99</td>\n",
       "      <td>415</td>\n",
       "    </tr>\n",
       "  </tbody>\n",
       "</table>\n",
       "</div>"
      ],
      "text/plain": [
       "   Unnamed: 0   Name       Date   Open  Closing_Price  Daily_High  Daily_Low  \\\n",
       "0           0  Accor 2020-04-03  22.99          23.40       23.40      22.99   \n",
       "1           1  Accor 2020-04-02  23.91          22.99       23.91      22.99   \n",
       "2           2  Accor 2020-04-01  24.10          23.83       24.10      23.83   \n",
       "3           3  Accor 2020-03-31  25.04          25.00       25.24      24.99   \n",
       "4           4  Accor 2020-03-30  26.50          25.02       26.50      24.99   \n",
       "\n",
       "  Volume  \n",
       "0     67  \n",
       "1    250  \n",
       "2     37  \n",
       "3    336  \n",
       "4    415  "
      ]
     },
     "execution_count": 36,
     "metadata": {},
     "output_type": "execute_result"
    }
   ],
   "source": [
    "dataset = pd.read_csv('stock_data.csv',parse_dates = ['Date'])\n",
    "dataset.head()"
   ]
  },
  {
   "cell_type": "code",
   "execution_count": 37,
   "metadata": {},
   "outputs": [],
   "source": [
    "def load_data(company,start,end):\n",
    "    dataframe = dataset.copy()\n",
    "    dataframe = dataframe.loc[(dataframe['Date'] > start) & (dataframe['Date'] < end), :]\n",
    "    dataframe = dataframe.loc[dataframe.Name == company, :]\n",
    "    dataframe = dataframe.rename(columns = {'Closing_Price': 'Close'})\n",
    "    return dataframe"
   ]
  },
  {
   "cell_type": "code",
   "execution_count": 38,
   "metadata": {},
   "outputs": [],
   "source": [
    "company = 'Accor'\n",
    "start_date = dt.datetime(2015,1,1)\n",
    "end_date = dt.datetime(2020,1,1)\n",
    "start_date_test = end_date"
   ]
  },
  {
   "cell_type": "code",
   "execution_count": 39,
   "metadata": {},
   "outputs": [
    {
     "data": {
      "text/html": [
       "<div>\n",
       "<style scoped>\n",
       "    .dataframe tbody tr th:only-of-type {\n",
       "        vertical-align: middle;\n",
       "    }\n",
       "\n",
       "    .dataframe tbody tr th {\n",
       "        vertical-align: top;\n",
       "    }\n",
       "\n",
       "    .dataframe thead th {\n",
       "        text-align: right;\n",
       "    }\n",
       "</style>\n",
       "<table border=\"1\" class=\"dataframe\">\n",
       "  <thead>\n",
       "    <tr style=\"text-align: right;\">\n",
       "      <th></th>\n",
       "      <th>Unnamed: 0</th>\n",
       "      <th>Name</th>\n",
       "      <th>Date</th>\n",
       "      <th>Open</th>\n",
       "      <th>Close</th>\n",
       "      <th>Daily_High</th>\n",
       "      <th>Daily_Low</th>\n",
       "      <th>Volume</th>\n",
       "    </tr>\n",
       "  </thead>\n",
       "  <tbody>\n",
       "    <tr>\n",
       "      <th>67</th>\n",
       "      <td>67</td>\n",
       "      <td>Accor</td>\n",
       "      <td>2019-12-30</td>\n",
       "      <td>42.10</td>\n",
       "      <td>42.10</td>\n",
       "      <td>42.10</td>\n",
       "      <td>42.10</td>\n",
       "      <td>NaN</td>\n",
       "    </tr>\n",
       "    <tr>\n",
       "      <th>68</th>\n",
       "      <td>68</td>\n",
       "      <td>Accor</td>\n",
       "      <td>2019-12-27</td>\n",
       "      <td>41.92</td>\n",
       "      <td>42.20</td>\n",
       "      <td>42.20</td>\n",
       "      <td>41.92</td>\n",
       "      <td>135</td>\n",
       "    </tr>\n",
       "    <tr>\n",
       "      <th>69</th>\n",
       "      <td>69</td>\n",
       "      <td>Accor</td>\n",
       "      <td>2019-12-23</td>\n",
       "      <td>41.08</td>\n",
       "      <td>42.09</td>\n",
       "      <td>42.09</td>\n",
       "      <td>41.08</td>\n",
       "      <td>10</td>\n",
       "    </tr>\n",
       "    <tr>\n",
       "      <th>70</th>\n",
       "      <td>70</td>\n",
       "      <td>Accor</td>\n",
       "      <td>2019-12-20</td>\n",
       "      <td>41.26</td>\n",
       "      <td>41.26</td>\n",
       "      <td>41.26</td>\n",
       "      <td>41.26</td>\n",
       "      <td>NaN</td>\n",
       "    </tr>\n",
       "    <tr>\n",
       "      <th>71</th>\n",
       "      <td>71</td>\n",
       "      <td>Accor</td>\n",
       "      <td>2019-12-19</td>\n",
       "      <td>41.31</td>\n",
       "      <td>41.31</td>\n",
       "      <td>41.31</td>\n",
       "      <td>41.31</td>\n",
       "      <td>NaN</td>\n",
       "    </tr>\n",
       "  </tbody>\n",
       "</table>\n",
       "</div>"
      ],
      "text/plain": [
       "    Unnamed: 0   Name       Date   Open  Close  Daily_High  Daily_Low Volume\n",
       "67          67  Accor 2019-12-30  42.10  42.10       42.10      42.10    NaN\n",
       "68          68  Accor 2019-12-27  41.92  42.20       42.20      41.92    135\n",
       "69          69  Accor 2019-12-23  41.08  42.09       42.09      41.08     10\n",
       "70          70  Accor 2019-12-20  41.26  41.26       41.26      41.26    NaN\n",
       "71          71  Accor 2019-12-19  41.31  41.31       41.31      41.31    NaN"
      ]
     },
     "execution_count": 39,
     "metadata": {},
     "output_type": "execute_result"
    }
   ],
   "source": [
    "data = load_data(company = company,start = start_date, end = end_date)\n",
    "data.head()"
   ]
  },
  {
   "attachments": {},
   "cell_type": "markdown",
   "metadata": {},
   "source": [
    "#### NORMALIZE THE DATA"
   ]
  },
  {
   "cell_type": "code",
   "execution_count": 40,
   "metadata": {},
   "outputs": [
    {
     "name": "stdout",
     "output_type": "stream",
     "text": [
      "(1262, 1)\n"
     ]
    }
   ],
   "source": [
    "scaler = MinMaxScaler(feature_range = (0,1))\n",
    "scaled_data = scaler.fit_transform(data['Close'].values.reshape(-1,1))\n",
    "#reshape(-1,1) reshapes the data into a 1D array with one columns and the required number of rows.\n",
    "print(scaled_data.shape)"
   ]
  },
  {
   "attachments": {},
   "cell_type": "markdown",
   "metadata": {},
   "source": [
    "#### Splitting into x_train and y_train and transforming 2D array to 3D array."
   ]
  },
  {
   "cell_type": "code",
   "execution_count": 41,
   "metadata": {},
   "outputs": [
    {
     "name": "stdout",
     "output_type": "stream",
     "text": [
      "(1202, 60)\n",
      "(1202, 60, 1)\n"
     ]
    }
   ],
   "source": [
    "#So we what we are doing here is basically creating dependent and independent features for the dataset.\n",
    "#We are using a time step of 60\n",
    "#This means that every 61st day of prediction is based on the previous 60 days.\n",
    "#For x_train first row consists of values FROM 0 TO 59.\n",
    "#For y_train first row consists of the 60th value.\n",
    "#For x_train second row consists of values from 1 to 60 values.\n",
    "#For y_train second row consists of 61st value.\n",
    "prediction_days = 60\n",
    "x_train = []\n",
    "y_train = []\n",
    "for x in range(prediction_days,len(scaled_data)):\n",
    "    x_train.append(scaled_data[x - prediction_days:x,0])\n",
    "    y_train.append(scaled_data[x,0])\n",
    "x_train, y_train = np.array(x_train), np.array(y_train)\n",
    "#Here x_train.shape is a tuple with the dimensions 2539 * 60\n",
    "#x_train.shape[0] refers to 2539\n",
    "#x_train[0].shape refers to the shape of the first array of x_train  which is 60 rows.\n",
    "print(x_train.shape)\n",
    "#HERE WE ARE CONVERTING A 2D ARRAY TO A 3D ARRAY\n",
    "#The 3 parameters of np.reshape are (layers,rows,colums)\n",
    "#So the final 3D array has 2539 layers, 60 rows and 1 column.\n",
    "x_train = np.reshape(x_train, (x_train.shape[0],x_train.shape[1],1))\n",
    "print(x_train.shape)"
   ]
  },
  {
   "attachments": {},
   "cell_type": "markdown",
   "metadata": {},
   "source": [
    "#### BUILDING THE LSTM MODEL"
   ]
  },
  {
   "attachments": {},
   "cell_type": "markdown",
   "metadata": {},
   "source": [
    "We can create a Keras model using Sequential.  \n",
    "The Sequential model is a linear stack of layers.  \n",
    "A Sequential model can be created by passing a list of layer instances to the Sequential constructor or you can simply add layers via the .add() method."
   ]
  },
  {
   "attachments": {},
   "cell_type": "markdown",
   "metadata": {},
   "source": [
    "return sequences =  true returns the output of all the hidden state of each time step.  \n",
    "The output is a 3D array of real numbers.  \n",
    "The first dimension is indicating the number of samples in the batch given to the LSTM layer.  \n",
    "The second dimension is the number of time steps in the input sequence.  \n",
    "The third dimension is the dimensionality of the output space defined by the units parameter in Keras LSTM implementation.  \n",
    "Units is the number of neurons in each layer.  \n",
    "Dropout is a technique where randomly selected neurons are ignored during training.  \n",
    "They are \"dropped out\" randomly.  \n",
    "Due to this other neurons have to step in and handle the representation required to make predictions for the missing neurons.  \n",
    "So, the network becomes less sensitive to the specific weights of the neurons.  \n",
    "Here the dropout rate is 20%, which means that one in five inputs will be randomly excluded from each update cycle.  \n",
    "Thus, this prevents OVERFITTING of the neural network.  \n",
    "Dense is basically a densely connected neural network layer and units if the number of neurons in the layers.  "
   ]
  },
  {
   "cell_type": "code",
   "execution_count": 42,
   "metadata": {},
   "outputs": [],
   "source": [
    "def LSTM_model():\n",
    "    model = Sequential()\n",
    "    model.add(LSTM(units = 50, return_sequences=True, input_shape = (x_train.shape[1],1)))\n",
    "    model.add(Dropout(0.2))\n",
    "    model.add(LSTM(units = 50,return_sequences=True,input_shape=(x_train.shape[1],1)))\n",
    "    model.add(Dropout(0.2))\n",
    "    model.add(LSTM(units=50))\n",
    "    model.add(Dropout(0.1))\n",
    "    model.add(Dense(units = 1))\n",
    "    return model"
   ]
  },
  {
   "attachments": {},
   "cell_type": "markdown",
   "metadata": {},
   "source": [
    "#### TRAINING"
   ]
  },
  {
   "cell_type": "code",
   "execution_count": 43,
   "metadata": {},
   "outputs": [
    {
     "name": "stdout",
     "output_type": "stream",
     "text": [
      "Model: \"sequential_1\"\n",
      "_________________________________________________________________\n",
      " Layer (type)                Output Shape              Param #   \n",
      "=================================================================\n",
      " lstm_3 (LSTM)               (None, 60, 50)            10400     \n",
      "                                                                 \n",
      " dropout_3 (Dropout)         (None, 60, 50)            0         \n",
      "                                                                 \n",
      " lstm_4 (LSTM)               (None, 60, 50)            20200     \n",
      "                                                                 \n",
      " dropout_4 (Dropout)         (None, 60, 50)            0         \n",
      "                                                                 \n",
      " lstm_5 (LSTM)               (None, 50)                20200     \n",
      "                                                                 \n",
      " dropout_5 (Dropout)         (None, 50)                0         \n",
      "                                                                 \n",
      " dense_1 (Dense)             (None, 1)                 51        \n",
      "                                                                 \n",
      "=================================================================\n",
      "Total params: 50,851\n",
      "Trainable params: 50,851\n",
      "Non-trainable params: 0\n",
      "_________________________________________________________________\n"
     ]
    }
   ],
   "source": [
    "model = LSTM_model()\n",
    "model.summary()\n",
    "model.compile(optimizer='adam',loss='mean_squared_error')"
   ]
  },
  {
   "cell_type": "code",
   "execution_count": 44,
   "metadata": {},
   "outputs": [
    {
     "name": "stdout",
     "output_type": "stream",
     "text": [
      "Epoch 1/25\n",
      "38/38 [==============================] - ETA: 0s - loss: 0.0602WARNING:tensorflow:Can save best model only with val_loss available, skipping.\n",
      "38/38 [==============================] - 6s 59ms/step - loss: 0.0602\n",
      "Epoch 2/25\n",
      "38/38 [==============================] - ETA: 0s - loss: 0.0097WARNING:tensorflow:Can save best model only with val_loss available, skipping.\n",
      "38/38 [==============================] - 2s 62ms/step - loss: 0.0097\n",
      "Epoch 3/25\n",
      "38/38 [==============================] - ETA: 0s - loss: 0.0083WARNING:tensorflow:Can save best model only with val_loss available, skipping.\n",
      "38/38 [==============================] - 2s 65ms/step - loss: 0.0083\n",
      "Epoch 4/25\n",
      "38/38 [==============================] - ETA: 0s - loss: 0.0084WARNING:tensorflow:Can save best model only with val_loss available, skipping.\n",
      "38/38 [==============================] - 3s 68ms/step - loss: 0.0084\n",
      "Epoch 5/25\n",
      "37/38 [============================>.] - ETA: 0s - loss: 0.0074WARNING:tensorflow:Can save best model only with val_loss available, skipping.\n",
      "38/38 [==============================] - 2s 62ms/step - loss: 0.0074\n",
      "Epoch 6/25\n",
      "38/38 [==============================] - ETA: 0s - loss: 0.0067WARNING:tensorflow:Can save best model only with val_loss available, skipping.\n",
      "38/38 [==============================] - 2s 61ms/step - loss: 0.0067\n",
      "Epoch 7/25\n",
      "38/38 [==============================] - ETA: 0s - loss: 0.0064WARNING:tensorflow:Can save best model only with val_loss available, skipping.\n",
      "38/38 [==============================] - 2s 65ms/step - loss: 0.0064\n",
      "Epoch 8/25\n",
      "38/38 [==============================] - ETA: 0s - loss: 0.0065WARNING:tensorflow:Can save best model only with val_loss available, skipping.\n",
      "38/38 [==============================] - 2s 62ms/step - loss: 0.0065\n",
      "Epoch 9/25\n",
      "38/38 [==============================] - ETA: 0s - loss: 0.0064WARNING:tensorflow:Can save best model only with val_loss available, skipping.\n",
      "38/38 [==============================] - 2s 64ms/step - loss: 0.0064\n",
      "Epoch 10/25\n",
      "38/38 [==============================] - ETA: 0s - loss: 0.0059WARNING:tensorflow:Can save best model only with val_loss available, skipping.\n",
      "38/38 [==============================] - 3s 66ms/step - loss: 0.0059\n",
      "Epoch 11/25\n",
      "38/38 [==============================] - ETA: 0s - loss: 0.0063WARNING:tensorflow:Can save best model only with val_loss available, skipping.\n",
      "38/38 [==============================] - 2s 64ms/step - loss: 0.0063\n",
      "Epoch 12/25\n",
      "38/38 [==============================] - ETA: 0s - loss: 0.0055WARNING:tensorflow:Can save best model only with val_loss available, skipping.\n",
      "38/38 [==============================] - 3s 74ms/step - loss: 0.0055\n",
      "Epoch 13/25\n",
      "38/38 [==============================] - ETA: 0s - loss: 0.0053WARNING:tensorflow:Can save best model only with val_loss available, skipping.\n",
      "38/38 [==============================] - 3s 67ms/step - loss: 0.0053\n",
      "Epoch 14/25\n",
      "38/38 [==============================] - ETA: 0s - loss: 0.0052WARNING:tensorflow:Can save best model only with val_loss available, skipping.\n",
      "38/38 [==============================] - 3s 66ms/step - loss: 0.0052\n",
      "Epoch 15/25\n",
      "38/38 [==============================] - ETA: 0s - loss: 0.0053WARNING:tensorflow:Can save best model only with val_loss available, skipping.\n",
      "38/38 [==============================] - 3s 66ms/step - loss: 0.0053\n",
      "Epoch 16/25\n",
      "38/38 [==============================] - ETA: 0s - loss: 0.0048WARNING:tensorflow:Can save best model only with val_loss available, skipping.\n",
      "38/38 [==============================] - 2s 65ms/step - loss: 0.0048\n",
      "Epoch 17/25\n",
      "37/38 [============================>.] - ETA: 0s - loss: 0.0047WARNING:tensorflow:Can save best model only with val_loss available, skipping.\n",
      "38/38 [==============================] - 3s 70ms/step - loss: 0.0047\n",
      "Epoch 18/25\n",
      "38/38 [==============================] - ETA: 0s - loss: 0.0043WARNING:tensorflow:Can save best model only with val_loss available, skipping.\n",
      "38/38 [==============================] - 2s 66ms/step - loss: 0.0043\n",
      "Epoch 19/25\n",
      "38/38 [==============================] - ETA: 0s - loss: 0.0047WARNING:tensorflow:Can save best model only with val_loss available, skipping.\n",
      "38/38 [==============================] - 3s 68ms/step - loss: 0.0047\n",
      "Epoch 20/25\n",
      "38/38 [==============================] - ETA: 0s - loss: 0.0044WARNING:tensorflow:Can save best model only with val_loss available, skipping.\n",
      "38/38 [==============================] - 3s 69ms/step - loss: 0.0044\n",
      "Epoch 21/25\n",
      "38/38 [==============================] - ETA: 0s - loss: 0.0043WARNING:tensorflow:Can save best model only with val_loss available, skipping.\n",
      "38/38 [==============================] - 3s 67ms/step - loss: 0.0043\n",
      "Epoch 22/25\n",
      "37/38 [============================>.] - ETA: 0s - loss: 0.0043WARNING:tensorflow:Can save best model only with val_loss available, skipping.\n",
      "38/38 [==============================] - 2s 64ms/step - loss: 0.0043\n",
      "Epoch 23/25\n",
      "37/38 [============================>.] - ETA: 0s - loss: 0.0041WARNING:tensorflow:Can save best model only with val_loss available, skipping.\n",
      "38/38 [==============================] - 2s 58ms/step - loss: 0.0041\n",
      "Epoch 24/25\n",
      "38/38 [==============================] - ETA: 0s - loss: 0.0042WARNING:tensorflow:Can save best model only with val_loss available, skipping.\n",
      "38/38 [==============================] - 2s 56ms/step - loss: 0.0042\n",
      "Epoch 25/25\n",
      "38/38 [==============================] - ETA: 0s - loss: 0.0038WARNING:tensorflow:Can save best model only with val_loss available, skipping.\n",
      "38/38 [==============================] - 2s 57ms/step - loss: 0.0038\n"
     ]
    },
    {
     "data": {
      "text/plain": [
       "<keras.callbacks.History at 0x27938495a20>"
      ]
     },
     "execution_count": 44,
     "metadata": {},
     "output_type": "execute_result"
    }
   ],
   "source": [
    "checkpointer = ModelCheckpoint(filepath = 'weights_best.hdf5',verbose=2,save_best_only=True)\n",
    "model.fit(x_train, y_train, epochs=25,batch_size=32, callbacks=[checkpointer])"
   ]
  },
  {
   "attachments": {},
   "cell_type": "markdown",
   "metadata": {},
   "source": [
    "#### PREDICTIONS"
   ]
  },
  {
   "cell_type": "code",
   "execution_count": 45,
   "metadata": {},
   "outputs": [
    {
     "name": "stderr",
     "output_type": "stream",
     "text": [
      "C:\\Users\\Shreya\\AppData\\Local\\Temp\\ipykernel_11840\\3267007943.py:4: FutureWarning: The behavior of `series[i:j]` with an integer-dtype index is deprecated. In a future version, this will be treated as *label-based* indexing, consistent with e.g. `series[i]` lookups. To retain the old behavior, use `series.iloc[i:j]`. To get the future behavior, use `series.loc[i:j]`.\n",
      "  model_inputs = total_dataset[len(total_dataset)-len(test_data)-prediction_days:].values\n"
     ]
    }
   ],
   "source": [
    "test_data = load_data(company = company, start = start_date_test,end = dt.datetime.now())\n",
    "actual_prices = test_data['Close'].values\n",
    "total_dataset = pd.concat((data['Close'], test_data['Close']), axis = 0)\n",
    "model_inputs = total_dataset[len(total_dataset)-len(test_data)-prediction_days:].values\n",
    "model_inputs = model_inputs.reshape(-1,1)\n",
    "model_inputs = scaler.transform(model_inputs)"
   ]
  },
  {
   "cell_type": "code",
   "execution_count": 46,
   "metadata": {},
   "outputs": [
    {
     "name": "stdout",
     "output_type": "stream",
     "text": [
      "3/3 [==============================] - 1s 18ms/step\n"
     ]
    }
   ],
   "source": [
    "x_test = []\n",
    "for x in range(prediction_days,len(model_inputs)):\n",
    "    x_test.append(model_inputs[x-prediction_days:x,0])\n",
    "x_test = np.array(x_test)\n",
    "#converting to 3D array.\n",
    "x_test = np.reshape(x_test,(x_test.shape[0],x_test.shape[1],1))\n",
    "predicted_prices = model.predict(x_test)\n",
    "predicted_prices = scaler.inverse_transform(predicted_prices)"
   ]
  },
  {
   "cell_type": "code",
   "execution_count": 47,
   "metadata": {},
   "outputs": [
    {
     "data": {
      "image/png": "[encoded data removed]",
      "text/plain": [
       "<Figure size 640x480 with 1 Axes>"
      ]
     },
     "metadata": {},
     "output_type": "display_data"
    }
   ],
   "source": [
    "plt.plot(actual_prices, color = 'black',label=f\"Actual {company} price\")\n",
    "plt.plot(predicted_prices, color='green',label=f\"predicted {company} price\")\n",
    "plt.title(f\" {company} share price\")\n",
    "plt.xlabel(\"time\")\n",
    "plt.ylabel(f\"{company} share price\")\n",
    "plt.legend()\n",
    "plt.show()"
   ]
  },
  {
   "attachments": {},
   "cell_type": "markdown",
   "metadata": {},
   "source": [
    "#### Predicting the next day"
   ]
  },
  {
   "cell_type": "code",
   "execution_count": 48,
   "metadata": {},
   "outputs": [],
   "source": [
    "real_data = [model_inputs[len(model_inputs)+1 - prediction_days:len(model_inputs+1),0]]\n",
    "real_data = np.array(real_data)\n",
    "real_data = np.reshape(real_data, (real_data.shape[0], real_data.shape[1],1))"
   ]
  },
  {
   "cell_type": "code",
   "execution_count": 49,
   "metadata": {},
   "outputs": [
    {
     "name": "stdout",
     "output_type": "stream",
     "text": [
      "1/1 [==============================] - 1s 698ms/step\n",
      "prediction: [[40.668236]]\n"
     ]
    }
   ],
   "source": [
    "prediction = model.predict(real_data)\n",
    "prediction = scaler.inverse_transform(prediction)\n",
    "print(f\"prediction: {prediction}\")"
   ]
  }
 ],
 "metadata": {
  "kernelspec": {
   "display_name": "Python 3",
   "language": "python",
   "name": "python3"
  },
  "language_info": {
   "codemirror_mode": {
    "name": "ipython",
    "version": 3
   },
   "file_extension": ".py",
   "mimetype": "text/x-python",
   "name": "python",
   "nbconvert_exporter": "python",
   "pygments_lexer": "ipython3",
   "version": "3.10.7"
  },
  "orig_nbformat": 4
 },
 "nbformat": 4,
 "nbformat_minor": 2
}
